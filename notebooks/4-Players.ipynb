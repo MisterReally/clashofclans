{
 "cells": [
  {
   "cell_type": "markdown",
   "source": [
    "# Players API\n",
    "## Init"
   ],
   "metadata": {}
  },
  {
   "cell_type": "code",
   "execution_count": null,
   "source": [
    "#r \"nuget: ClashOfClans\"\n",
    "\n",
    "using Newtonsoft.Json.Linq;\n",
    "using System.IO;\n",
    "\n",
    "var settings = JObject.Parse(File.ReadAllText(\"settings.json\"));\n",
    "var token = (string)settings[\"Token\"];\n",
    "var playerTag = (string)settings[\"PlayerTag\"];"
   ],
   "outputs": [],
   "metadata": {
    "dotnet_interactive": {
     "language": "csharp"
    }
   }
  },
  {
   "cell_type": "code",
   "execution_count": null,
   "source": [
    "using ClashOfClans;\n",
    "using ClashOfClans.Core;\n",
    "using ClashOfClans.Models;\n",
    "\n",
    "var coc = new ClashOfClansClient(token);\n",
    "var player = await coc.Players.GetPlayerAsync(playerTag);\n",
    "\n",
    "Console.WriteLine($\"{player.Name} has donated {player.Donations} troops in this season\");"
   ],
   "outputs": [],
   "metadata": {
    "dotnet_interactive": {
     "language": "csharp"
    }
   }
  },
  {
   "cell_type": "markdown",
   "source": [
    "## Get player information and serialize it as JSON"
   ],
   "metadata": {}
  },
  {
   "cell_type": "code",
   "execution_count": null,
   "source": [
    "using Newtonsoft.Json;\n",
    "\n",
    "JsonConvert.SerializeObject(player, Formatting.Indented).Display();"
   ],
   "outputs": [],
   "metadata": {
    "dotnet_interactive": {
     "language": "csharp"
    }
   }
  }
 ],
 "metadata": {
  "orig_nbformat": 4,
  "language_info": {
   "file_extension": ".cs",
   "mimetype": "text/x-csharp",
   "name": "C#",
   "pygments_lexer": "csharp",
   "version": "9.0"
  },
  "kernelspec": {
   "display_name": ".NET (C#)",
   "language": "C#",
   "name": ".net-csharp"
  }
 },
 "nbformat": 4,
 "nbformat_minor": 2
}
