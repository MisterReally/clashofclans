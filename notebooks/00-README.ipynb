{
 "metadata": {
  "kernelspec": {
   "display_name": ".NET (PowerShell)",
   "language": "PowerShell",
   "name": ".net-pwsh"
  },
  "language_info": {
   "name": "PowerShell"
  }
 },
 "cells": [
  {
   "cell_type": "markdown",
   "source": [
    "# Clash of Clans\n",
    "This is a [.NET Interactive](https://github.com/dotnet/interactive) demo of Clash of Clans C# library and it's capabilities! In order to go through the Clash of Clans C# API examples you need a token for Clash of Clans API. The API token is bound to your external IP address, which you can determine by executing the cell below. You can execute each cell by clicking \"Run the selected cells and advance\" button or by using a `Ctrl-Enter` shortcut."
   ],
   "metadata": {
    "dotnet_interactive": {
     "language": "pwsh"
    }
   }
  },
  {
   "cell_type": "code",
   "execution_count": null,
   "source": [
    "$ip = Invoke-RestMethod -Uri 'https://api.ipify.org?format=json'\n",
    "\"Public IP address is: $($ip.ip)\""
   ],
   "outputs": [],
   "metadata": {
    "dotnet_interactive": {
     "language": "pwsh"
    }
   }
  },
  {
   "cell_type": "markdown",
   "source": [
    "Once you know your external IP address, you need to create an API key (token) in Clash of Clans [developer web site](https://developer.clashofclans.com/). After creating the API key, enter the value of it to `$token` variable and add your player tag and clan tags as well. Both tags must start with the '#' character!"
   ],
   "metadata": {}
  },
  {
   "cell_type": "code",
   "execution_count": null,
   "source": [
    "$token = \"[your own unique API key]\"\n",
    "$playerTag = \"[player tag]\"\n",
    "$clanTag = \"[clan tag]\""
   ],
   "outputs": [],
   "metadata": {
    "dotnet_interactive": {
     "language": "pwsh"
    }
   }
  },
  {
   "cell_type": "markdown",
   "source": [
    "After executing the above cell the content of the settings must be made available to other notebooks via `settings.json` file by executing the cell below. After creating `settings.json` file with valid content you can start executing other notebooks, which will use the variables directly from `settings.json` file and there is no need to declare variables in every notebook separately."
   ],
   "metadata": {}
  },
  {
   "cell_type": "code",
   "execution_count": null,
   "source": [
    "@{Token=$token;PlayerTag=$playerTag;ClanTag=$clanTag} | ConvertTo-Json | Out-File -FilePath .\\settings.json"
   ],
   "outputs": [],
   "metadata": {
    "dotnet_interactive": {
     "language": "pwsh"
    }
   }
  }
 ],
 "nbformat": 4,
 "nbformat_minor": 2
}
