{
 "metadata": {
  "kernelspec": {
   "display_name": ".NET (C#)",
   "language": "C#",
   "name": ".net-csharp"
  },
  "language_info": {
   "name": "C#"
  }
 },
 "cells": [
  {
   "cell_type": "markdown",
   "source": [
    "# Gold Pass\r\n",
    "## Init"
   ],
   "metadata": {
    "dotnet_interactive": {
     "language": "csharp"
    }
   }
  },
  {
   "cell_type": "code",
   "execution_count": null,
   "source": [
    "#r \"nuget: ClashOfClans\"\r\n",
    "\r\n",
    "using Newtonsoft.Json.Linq;\r\n",
    "using System.IO;\r\n",
    "\r\n",
    "var settings = JObject.Parse(File.ReadAllText(\"settings.json\"));\r\n",
    "var token = (string)settings[\"Token\"];"
   ],
   "outputs": [],
   "metadata": {
    "dotnet_interactive": {
     "language": "csharp"
    }
   }
  },
  {
   "cell_type": "markdown",
   "source": [
    "## Get information about the current gold pass season"
   ],
   "metadata": {}
  },
  {
   "cell_type": "code",
   "execution_count": null,
   "source": [
    "using ClashOfClans;\r\n",
    "using ClashOfClans.Core;\r\n",
    "using ClashOfClans.Models;"
   ],
   "outputs": [],
   "metadata": {
    "dotnet_interactive": {
     "language": "csharp"
    }
   }
  },
  {
   "cell_type": "code",
   "execution_count": null,
   "source": [
    "var coc = new ClashOfClansClient(token);\r\n",
    "var currentGoldPassSeason = await coc.GoldPass.GetCurrentGoldPassSeasonAsync();"
   ],
   "outputs": [],
   "metadata": {
    "dotnet_interactive": {
     "language": "csharp"
    }
   }
  },
  {
   "cell_type": "code",
   "execution_count": null,
   "source": [
    "Console.WriteLine(\r\n",
    "    $\"Current GoldPass season started '{currentGoldPassSeason.StartTime.ToLocalTime()}'\" +\r\n",
    "    $\"and ends '{currentGoldPassSeason.EndTime.ToLocalTime()}'\");"
   ],
   "outputs": [],
   "metadata": {
    "dotnet_interactive": {
     "language": "csharp"
    }
   }
  }
 ],
 "nbformat": 4,
 "nbformat_minor": 2
}