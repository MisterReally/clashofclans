{
 "metadata": {
  "kernelspec": {
   "display_name": ".NET (C#)",
   "language": "C#",
   "name": ".net-csharp"
  },
  "language_info": {
   "name": "C#"
  }
 },
 "cells": [
  {
   "cell_type": "markdown",
   "source": [
    "# Gold Pass API\n",
    "## Init"
   ],
   "metadata": {
    "dotnet_interactive": {
     "language": "csharp"
    }
   }
  },
  {
   "cell_type": "code",
   "execution_count": null,
   "source": [
    "#r \"nuget: ClashOfClans\"\n",
    "\n",
    "using Newtonsoft.Json.Linq;\n",
    "using System.IO;\n",
    "\n",
    "var settings = JObject.Parse(File.ReadAllText(\"settings.json\"));\n",
    "var token = (string)settings[\"Token\"];"
   ],
   "outputs": [],
   "metadata": {
    "dotnet_interactive": {
     "language": "csharp"
    }
   }
  },
  {
   "cell_type": "markdown",
   "source": [
    "## Get information about the current gold pass season"
   ],
   "metadata": {}
  },
  {
   "cell_type": "code",
   "execution_count": null,
   "source": [
    "using ClashOfClans;\n",
    "using ClashOfClans.Core;\n",
    "using ClashOfClans.Models;\n",
    "\n",
    "var coc = new ClashOfClansClient(token);\n",
    "var currentGoldPassSeason = await coc.GoldPass.GetCurrentGoldPassSeasonAsync();"
   ],
   "outputs": [],
   "metadata": {
    "dotnet_interactive": {
     "language": "csharp"
    }
   }
  },
  {
   "cell_type": "markdown",
   "source": [
    "Print the start/end times using UTC time."
   ],
   "metadata": {}
  },
  {
   "cell_type": "code",
   "execution_count": null,
   "source": [
    "currentGoldPassSeason"
   ],
   "outputs": [],
   "metadata": {
    "dotnet_interactive": {
     "language": "csharp"
    }
   }
  },
  {
   "cell_type": "markdown",
   "source": [
    "Print the start/end times using local time."
   ],
   "metadata": {}
  },
  {
   "cell_type": "code",
   "execution_count": null,
   "source": [
    "Console.WriteLine(\n",
    "    $\"Current GoldPass season started '{currentGoldPassSeason.StartTime.ToLocalTime()}'\" +\n",
    "    $\" and ends '{currentGoldPassSeason.EndTime.ToLocalTime()}'\");"
   ],
   "outputs": [],
   "metadata": {
    "dotnet_interactive": {
     "language": "csharp"
    }
   }
  },
  {
   "cell_type": "markdown",
   "source": [
    "JSON serialize object"
   ],
   "metadata": {}
  },
  {
   "cell_type": "code",
   "execution_count": null,
   "source": [
    "using Newtonsoft.Json;\n",
    "\n",
    "JsonConvert.SerializeObject(currentGoldPassSeason, Formatting.Indented).Display();"
   ],
   "outputs": [],
   "metadata": {
    "dotnet_interactive": {
     "language": "csharp"
    }
   }
  }
 ],
 "nbformat": 4,
 "nbformat_minor": 2
}
