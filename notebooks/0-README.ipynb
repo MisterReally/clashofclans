{
 "metadata": {
  "kernelspec": {
   "display_name": ".NET (PowerShell)",
   "language": "PowerShell",
   "name": ".net-pwsh"
  },
  "language_info": {
   "name": "PowerShell"
  }
 },
 "cells": [
  {
   "cell_type": "markdown",
   "source": [
    "# Clash of Clans\r\n",
    "In order to go through the interactive Clash of Clans C# API examples you need a token for Clash of Clans API. The API token is bound to your external IP address, which you can determine by executing the cell below."
   ],
   "metadata": {
    "dotnet_interactive": {
     "language": "pwsh"
    }
   }
  },
  {
   "cell_type": "code",
   "execution_count": null,
   "source": [
    "$ip = Invoke-RestMethod -Uri 'https://api.ipify.org?format=json'\r\n",
    "\"My public IP address is: $($ip.ip)\""
   ],
   "outputs": [],
   "metadata": {
    "dotnet_interactive": {
     "language": "pwsh"
    }
   }
  },
  {
   "cell_type": "markdown",
   "source": [
    "Once you know your external IP address, you need to create an API key (token) in Clash of Clans [developer web site](https://developer.clashofclans.com/)."
   ],
   "metadata": {}
  },
  {
   "cell_type": "code",
   "execution_count": null,
   "source": [
    "$token = \"[your own unique API key]\"\r\n",
    "$playerTag = \"[player tag]\"\r\n",
    "$clanTag = \"[clan tag]\""
   ],
   "outputs": [],
   "metadata": {
    "dotnet_interactive": {
     "language": "pwsh"
    }
   }
  },
  {
   "cell_type": "code",
   "execution_count": null,
   "source": [
    "@{Token=$token;PlayerTag=$playerTag;ClanTag=$clanTag} | ConvertTo-Json | Out-File -FilePath .\\settings.json"
   ],
   "outputs": [],
   "metadata": {
    "dotnet_interactive": {
     "language": "pwsh"
    }
   }
  }
 ],
 "nbformat": 4,
 "nbformat_minor": 2
}