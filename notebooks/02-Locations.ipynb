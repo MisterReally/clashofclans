{
 "cells": [
  {
   "cell_type": "markdown",
   "source": [
    "# Locations API\n",
    "## Init"
   ],
   "metadata": {}
  },
  {
   "cell_type": "code",
   "execution_count": null,
   "source": [
    "#r \"nuget: ClashOfClans\"\n",
    "\n",
    "using Newtonsoft.Json.Linq;\n",
    "using System.IO;\n",
    "\n",
    "var settings = JObject.Parse(File.ReadAllText(\"settings.json\"));\n",
    "var token = (string)settings[\"Token\"];"
   ],
   "outputs": [],
   "metadata": {
    "dotnet_interactive": {
     "language": "csharp"
    }
   }
  },
  {
   "cell_type": "code",
   "execution_count": null,
   "source": [
    "using ClashOfClans;\n",
    "using ClashOfClans.Models;\n",
    "\n",
    "var coc = new ClashOfClansClient(token);\n",
    "var locations = (LocationList)await coc.Locations.GetLocationsAsync();\n",
    "\n",
    "foreach (var location in locations.Take(10)) {\n",
    "    Console.WriteLine($\"{location.Id} {location.Name}\");\n",
    "}"
   ],
   "outputs": [],
   "metadata": {
    "dotnet_interactive": {
     "language": "csharp"
    }
   }
  }
 ],
 "metadata": {
  "orig_nbformat": 4,
  "language_info": {
   "file_extension": ".cs",
   "mimetype": "text/x-csharp",
   "name": "C#",
   "pygments_lexer": "csharp",
   "version": "9.0"
  },
  "kernelspec": {
   "display_name": ".NET (C#)",
   "language": "C#",
   "name": ".net-csharp"
  }
 },
 "nbformat": 4,
 "nbformat_minor": 2
}
