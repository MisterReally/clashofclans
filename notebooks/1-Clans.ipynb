{
 "cells": [
  {
   "cell_type": "markdown",
   "source": [
    "# Clans API\n",
    "## Init"
   ],
   "metadata": {}
  },
  {
   "cell_type": "code",
   "execution_count": null,
   "source": [
    "#r \"nuget: ClashOfClans\"\n",
    "\n",
    "using Newtonsoft.Json.Linq;\n",
    "using System.IO;\n",
    "\n",
    "var settings = JObject.Parse(File.ReadAllText(\"settings.json\"));\n",
    "var token = (string)settings[\"Token\"];\n",
    "var clanTag = (string)settings[\"ClanTag\"];"
   ],
   "outputs": [],
   "metadata": {
    "dotnet_interactive": {
     "language": "csharp"
    }
   }
  },
  {
   "cell_type": "code",
   "execution_count": null,
   "source": [
    "using ClashOfClans;\n",
    "using ClashOfClans.Search;\n",
    "using ClashOfClans.Models;\n",
    "\n",
    "var coc = new ClashOfClansClient(token);"
   ],
   "outputs": [],
   "metadata": {
    "dotnet_interactive": {
     "language": "csharp"
    }
   }
  },
  {
   "cell_type": "markdown",
   "source": [
    "## Get clans with a minimum level of 30"
   ],
   "metadata": {}
  },
  {
   "cell_type": "code",
   "execution_count": null,
   "source": [
    "var query = new QueryClans {\n",
    "    Limit = 10,\n",
    "    MinClanLevel = 30\n",
    "};\n",
    "\n",
    "var clans = (ClanList)await coc.Clans.SearchClansAsync(query);\n",
    "foreach (var clan in clans.OrderByDescending(c => c.ClanLevel)) {\n",
    "    Console.WriteLine($\"{clan.ClanLevel} {clan.Tag} {clan.Name}\");\n",
    "}"
   ],
   "outputs": [],
   "metadata": {
    "dotnet_interactive": {
     "language": "csharp"
    }
   }
  },
  {
   "cell_type": "markdown",
   "source": [
    "## Get clan information and serialize it as a JSON"
   ],
   "metadata": {}
  },
  {
   "cell_type": "code",
   "execution_count": null,
   "source": [
    "using Newtonsoft.Json;\n",
    "var clan = (Clan)await coc.Clans.GetClanAsync(clanTag);\n",
    "\n",
    "JsonConvert.SerializeObject(clan, Formatting.Indented).Display();"
   ],
   "outputs": [],
   "metadata": {
    "dotnet_interactive": {
     "language": "csharp"
    }
   }
  }
 ],
 "metadata": {
  "orig_nbformat": 4,
  "language_info": {
   "file_extension": ".cs",
   "mimetype": "text/x-csharp",
   "name": "C#",
   "pygments_lexer": "csharp",
   "version": "9.0"
  },
  "kernelspec": {
   "display_name": ".NET (C#)",
   "language": "C#",
   "name": ".net-csharp"
  }
 },
 "nbformat": 4,
 "nbformat_minor": 2
}
