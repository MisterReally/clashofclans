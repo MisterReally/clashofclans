{
 "metadata": {
  "kernelspec": {
   "display_name": ".NET (C#)",
   "language": "C#",
   "name": ".net-csharp"
  },
  "language_info": {
   "name": "C#"
  }
 },
 "cells": [
  {
   "cell_type": "markdown",
   "source": [
    "# Get Information About Current Clan War\n",
    "## Init"
   ],
   "metadata": {}
  },
  {
   "cell_type": "code",
   "execution_count": null,
   "source": [
    "#r \"nuget: ClashOfClans\""
   ],
   "outputs": [],
   "metadata": {
    "dotnet_interactive": {
     "language": "csharp"
    }
   }
  },
  {
   "cell_type": "code",
   "execution_count": null,
   "source": [
    "using System;\n",
    "using System.IO;\n",
    "using ClashOfClans;\n",
    "using ClashOfClans.Core;\n",
    "using ClashOfClans.Models;\n",
    "using Newtonsoft.Json.Linq;\n",
    "\n",
    "var settings = JObject.Parse(File.ReadAllText(\"settings.json\"));\n",
    "var token = (string)settings[\"Token\"];\n",
    "var clanTag = (string)settings[\"ClanTag\"];\n",
    "\n",
    "var coc = new ClashOfClansClient(token);"
   ],
   "outputs": [],
   "metadata": {
    "dotnet_interactive": {
     "language": "csharp"
    }
   }
  },
  {
   "cell_type": "markdown",
   "source": [
    "## Get Clan Information"
   ],
   "metadata": {}
  },
  {
   "cell_type": "code",
   "execution_count": null,
   "source": [
    "try {\n",
    "    var clan = await coc.Clans.GetClanAsync(clanTag);\n",
    "\n",
    "    if (clan.IsWarLogPublic == false) {\n",
    "        throw new System.NotSupportedException(\"War log must be public to access current war information!\");\n",
    "    }\n",
    "}\n",
    "catch (ClashOfClansException ex) {\n",
    "    Console.WriteLine(ex.Error.Message);\n",
    "}"
   ],
   "outputs": [],
   "metadata": {
    "dotnet_interactive": {
     "language": "csharp"
    }
   }
  },
  {
   "cell_type": "markdown",
   "source": [
    "## Get War Information"
   ],
   "metadata": {}
  },
  {
   "cell_type": "code",
   "execution_count": null,
   "source": [
    "var currentWar = await coc.Clans.GetCurrentWarAsync(clanTag);\n",
    "\n",
    "Console.WriteLine($\"War state: {currentWar.State}\");\n",
    "Console.WriteLine($\"Preparation start time @ {currentWar.PreparationStartTime.ToLocalTime()}\");\n",
    "Console.WriteLine($\"War start time @ {currentWar.StartTime.ToLocalTime()}\");\n",
    "Console.WriteLine($\"War end time @ {currentWar.EndTime.ToLocalTime()}\");"
   ],
   "outputs": [],
   "metadata": {
    "dotnet_interactive": {
     "language": "csharp"
    }
   }
  },
  {
   "cell_type": "markdown",
   "source": [
    "## Register a Formatter for `ClanWar`"
   ],
   "metadata": {}
  },
  {
   "cell_type": "code",
   "execution_count": null,
   "source": [
    "using Microsoft.DotNet.Interactive.Formatting;\n",
    "\n",
    "string GetAttack(ClanWarAttackList attacks, int attackNumber, ClanWarMemberList members) {\n",
    "    if (attacks == null) {\n",
    "        return string.Empty;\n",
    "    }\n",
    "\n",
    "    if (attacks.Count < attackNumber) {\n",
    "        return string.Empty;\n",
    "    }\n",
    "\n",
    "    var attack = attacks[attackNumber-1];\n",
    "    var opponent = members.Single(m => m.Tag == attack.DefenderTag);\n",
    "    return $\"{new String('\\u2605', attack.Stars)}, {attack.DestructionPercentage:D3}%, #{opponent.MapPosition:D2}\";\n",
    "}\n",
    "\n",
    "Formatter.ResetToDefault();\n",
    "Formatter.Register<ClanWar>((clanWar, writer) => {\n",
    "    writer.Write(\"<table>\");\n",
    "    writer.Write(\"<th>Position</th>\");\n",
    "    writer.Write(\"<th>Player Name</th>\");\n",
    "    writer.Write(\"<th>1st Attack</th>\");\n",
    "    writer.Write(\"<th>2nd Attack</th>\");\n",
    "    writer.Write(\"<th>Opponent Name</th>\");\n",
    "    writer.Write(\"<th>1st Attack</th>\");\n",
    "    writer.Write(\"<th>2nd Attack</th>\");\n",
    "    writer.Write(\"</tr>\");\n",
    "    foreach (var member in clanWar.Clan.Members.OrderBy(m => m.MapPosition)) {\n",
    "        var opponent = clanWar.Opponent.Members.Single(m => m.MapPosition == member.MapPosition);\n",
    "        writer.Write(\"<tr>\");\n",
    "        writer.Write($\"<td>{member.MapPosition}.</td>\");\n",
    "        writer.Write($\"<td>{member.Name}</td>\");\n",
    "        writer.Write($\"<td>{GetAttack(member.Attacks, 1, clanWar.Opponent.Members)}</td>\");\n",
    "        writer.Write($\"<td>{GetAttack(member.Attacks, 2, clanWar.Opponent.Members)}</td>\");\n",
    "        writer.Write($\"<td>{opponent.Name}</td>\");\n",
    "        writer.Write($\"<td>{GetAttack(opponent.Attacks, 1, clanWar.Clan.Members)}</td>\");\n",
    "        writer.Write($\"<td>{GetAttack(opponent.Attacks, 2, clanWar.Clan.Members)}</td>\");\n",
    "        writer.Write(\"</tr>\");\n",
    "    }\n",
    "    writer.Write(\"<tr>\");\n",
    "    writer.Write($\"<td></td>\");\n",
    "    writer.Write($\"<td></td>\");\n",
    "    writer.Write($\"<td>{clanWar.Clan.Stars}\\u2605, {clanWar.Clan.DestructionPercentage}%</td>\");\n",
    "    writer.Write($\"<td></td>\");\n",
    "    writer.Write($\"<td></td>\");\n",
    "    writer.Write($\"<td>{clanWar.Opponent.Stars}\\u2605, {clanWar.Opponent.DestructionPercentage}%</td>\");\n",
    "    writer.Write($\"<td></td>\");\n",
    "    writer.Write(\"</tr>\");\n",
    "    writer.Write(\"</table>\");\n",
    "}, mimeType: \"text/html\");"
   ],
   "outputs": [],
   "metadata": {
    "dotnet_interactive": {
     "language": "csharp"
    }
   }
  },
  {
   "cell_type": "markdown",
   "source": [
    "## War Details"
   ],
   "metadata": {}
  },
  {
   "cell_type": "code",
   "execution_count": null,
   "source": [
    "currentWar"
   ],
   "outputs": [],
   "metadata": {
    "dotnet_interactive": {
     "language": "csharp"
    }
   }
  }
 ],
 "nbformat": 4,
 "nbformat_minor": 2
}
