{
 "cells": [
  {
   "cell_type": "markdown",
   "source": [
    "# Leagues API\n",
    "## Init"
   ],
   "metadata": {}
  },
  {
   "cell_type": "code",
   "execution_count": null,
   "source": [
    "#r \"nuget: ClashOfClans\"\n",
    "\n",
    "using Newtonsoft.Json.Linq;\n",
    "using System.IO;\n",
    "\n",
    "var settings = JObject.Parse(File.ReadAllText(\"settings.json\"));\n",
    "var token = (string)settings[\"Token\"];"
   ],
   "outputs": [],
   "metadata": {
    "dotnet_interactive": {
     "language": "csharp"
    }
   }
  },
  {
   "cell_type": "code",
   "execution_count": null,
   "source": [
    "using ClashOfClans;\n",
    "using ClashOfClans.Models;\n",
    "\n",
    "var coc = new ClashOfClansClient(token);"
   ],
   "outputs": [],
   "metadata": {
    "dotnet_interactive": {
     "language": "csharp"
    }
   }
  },
  {
   "cell_type": "code",
   "execution_count": null,
   "source": [
    "var leagues = (LeagueList)await coc.Leagues.GetLeaguesAsync();\n",
    "\n",
    "foreach (var league in leagues) {\n",
    "    Console.WriteLine($\"{league.Id} {league.Name}\");\n",
    "}"
   ],
   "outputs": [],
   "metadata": {
    "dotnet_interactive": {
     "language": "csharp"
    }
   }
  }
 ],
 "metadata": {
  "orig_nbformat": 4,
  "language_info": {
   "file_extension": ".cs",
   "mimetype": "text/x-csharp",
   "name": "C#",
   "pygments_lexer": "csharp",
   "version": "9.0"
  },
  "kernelspec": {
   "display_name": ".NET (C#)",
   "language": "C#",
   "name": ".net-csharp"
  }
 },
 "nbformat": 4,
 "nbformat_minor": 2
}
